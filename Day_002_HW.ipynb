{
 "cells": [
  {
   "cell_type": "markdown",
   "metadata": {},
   "source": [
    "## [作業目標]\n",
    "了解機器學習適合應用的領域與範疇。"
   ]
  },
  {
   "cell_type": "markdown",
   "metadata": {},
   "source": [
    "## [作業重點]\n",
    "透過瞭解機器學習的運作方式，找出非常適用機器學習應用的領域及其原因"
   ]
  },
  {
   "cell_type": "markdown",
   "metadata": {},
   "source": [
    "## 作業\n",
    "請找出一個你認為機器學習可以發光發熱的領域並闡述原因? "
   ]
  },
  {
   "cell_type": "code",
   "execution_count": null,
   "metadata": {},
   "outputs": [],
   "source": [
    "醫學影像處理\n",
    "\n",
    "醫學影像上有相當多的特徵點, 一開始是需要專業人士做Marker的標記\n",
    "之後, 透過這些Marker, 機器可以辨識這些Marker\n",
    "進一步判讀是否有該特殊的標記, 來得到該圖像是否為目標圖像\n",
    "\n",
    "由於這些特徵點是固定出現, 故可以做為一定程度的判讀\n",
    "而在較無經驗的醫師中, 可藉由機器學習所得到的判讀結果, 進一步輔助醫師做判斷\n",
    "以加速篩檢程序與降低誤判的可能"
   ]
  }
 ],
 "metadata": {
  "kernelspec": {
   "display_name": "Python 3",
   "language": "python",
   "name": "python3"
  },
  "language_info": {
   "codemirror_mode": {
    "name": "ipython",
    "version": 3
   },
   "file_extension": ".py",
   "mimetype": "text/x-python",
   "name": "python",
   "nbconvert_exporter": "python",
   "pygments_lexer": "ipython3",
   "version": "3.7.3"
  }
 },
 "nbformat": 4,
 "nbformat_minor": 2
}
